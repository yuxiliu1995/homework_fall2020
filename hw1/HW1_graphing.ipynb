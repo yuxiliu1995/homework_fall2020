{
 "cells": [
  {
   "cell_type": "code",
   "execution_count": 1,
   "metadata": {
    "colab": {},
    "colab_type": "code",
    "id": "ib-Bsj2wsbk4"
   },
   "outputs": [],
   "source": [
    "import tensorflow as tf\n",
    "from tensorflow.python.summary.summary_iterator import summary_iterator\n",
    "import matplotlib.pyplot as plt\n",
    "\n",
    "def get_section_results(file):\n",
    "    eval_returns = []\n",
    "    for e in summary_iterator(file):\n",
    "        for v in e.summary.value:\n",
    "            if v.tag == 'Eval_AverageReturn':\n",
    "                eval_returns.append(v.simple_value)\n",
    "    return eval_returns"
   ]
  },
  {
   "cell_type": "code",
   "execution_count": 26,
   "metadata": {},
   "outputs": [
    {
     "name": "stdout",
     "output_type": "stream",
     "text": [
      "<class 'tensorflow.core.util.event_pb2.Event'>\n",
      "<class 'tensorflow.core.framework.summary_pb2.Summary'>\n",
      "<class 'google.protobuf.pyext._message.RepeatedCompositeContainer'>\n",
      "\n",
      "[]\n",
      "wall_time: 1600129358.4167047\n",
      "file_version: \"brain.Event:2\"\n",
      "\n",
      "<class 'tensorflow.core.util.event_pb2.Event'>\n",
      "<class 'tensorflow.core.framework.summary_pb2.Summary'>\n",
      "<class 'google.protobuf.pyext._message.RepeatedCompositeContainer'>\n",
      "value {\n",
      "  tag: \"Eval_AverageReturn\"\n",
      "  simple_value: 281.1478271484375\n",
      "}\n",
      "\n",
      "[tag: \"Eval_AverageReturn\"\n",
      "simple_value: 281.1478271484375\n",
      "]\n",
      "wall_time: 1600129381.9171867\n",
      "summary {\n",
      "  value {\n",
      "    tag: \"Eval_AverageReturn\"\n",
      "    simple_value: 281.1478271484375\n",
      "  }\n",
      "}\n",
      "\n",
      "<class 'tensorflow.core.util.event_pb2.Event'>\n",
      "<class 'tensorflow.core.framework.summary_pb2.Summary'>\n",
      "<class 'google.protobuf.pyext._message.RepeatedCompositeContainer'>\n",
      "value {\n",
      "  tag: \"Eval_StdReturn\"\n",
      "  simple_value: 23.362619400024414\n",
      "}\n",
      "\n",
      "[tag: \"Eval_StdReturn\"\n",
      "simple_value: 23.362619400024414\n",
      "]\n",
      "wall_time: 1600129381.9177737\n",
      "summary {\n",
      "  value {\n",
      "    tag: \"Eval_StdReturn\"\n",
      "    simple_value: 23.362619400024414\n",
      "  }\n",
      "}\n",
      "\n",
      "<class 'tensorflow.core.util.event_pb2.Event'>\n",
      "<class 'tensorflow.core.framework.summary_pb2.Summary'>\n",
      "<class 'google.protobuf.pyext._message.RepeatedCompositeContainer'>\n",
      "value {\n",
      "  tag: \"Eval_MaxReturn\"\n",
      "  simple_value: 370.07379150390625\n",
      "}\n",
      "\n",
      "[tag: \"Eval_MaxReturn\"\n",
      "simple_value: 370.07379150390625\n",
      "]\n",
      "wall_time: 1600129381.9184885\n",
      "summary {\n",
      "  value {\n",
      "    tag: \"Eval_MaxReturn\"\n",
      "    simple_value: 370.07379150390625\n",
      "  }\n",
      "}\n",
      "\n",
      "<class 'tensorflow.core.util.event_pb2.Event'>\n",
      "<class 'tensorflow.core.framework.summary_pb2.Summary'>\n",
      "<class 'google.protobuf.pyext._message.RepeatedCompositeContainer'>\n",
      "value {\n",
      "  tag: \"Eval_MinReturn\"\n",
      "  simple_value: 239.14071655273438\n",
      "}\n",
      "\n",
      "[tag: \"Eval_MinReturn\"\n",
      "simple_value: 239.14071655273438\n",
      "]\n",
      "wall_time: 1600129381.9192395\n",
      "summary {\n",
      "  value {\n",
      "    tag: \"Eval_MinReturn\"\n",
      "    simple_value: 239.14071655273438\n",
      "  }\n",
      "}\n",
      "\n",
      "<class 'tensorflow.core.util.event_pb2.Event'>\n",
      "<class 'tensorflow.core.framework.summary_pb2.Summary'>\n",
      "<class 'google.protobuf.pyext._message.RepeatedCompositeContainer'>\n",
      "value {\n",
      "  tag: \"Eval_AverageEpLen\"\n",
      "  simple_value: 51.38461685180664\n",
      "}\n",
      "\n",
      "[tag: \"Eval_AverageEpLen\"\n",
      "simple_value: 51.38461685180664\n",
      "]\n",
      "wall_time: 1600129381.9200134\n",
      "summary {\n",
      "  value {\n",
      "    tag: \"Eval_AverageEpLen\"\n",
      "    simple_value: 51.38461685180664\n",
      "  }\n",
      "}\n",
      "\n",
      "<class 'tensorflow.core.util.event_pb2.Event'>\n",
      "<class 'tensorflow.core.framework.summary_pb2.Summary'>\n",
      "<class 'google.protobuf.pyext._message.RepeatedCompositeContainer'>\n",
      "value {\n",
      "  tag: \"Train_AverageReturn\"\n",
      "  simple_value: 10344.517578125\n",
      "}\n",
      "\n",
      "[tag: \"Train_AverageReturn\"\n",
      "simple_value: 10344.517578125\n",
      "]\n",
      "wall_time: 1600129381.921966\n",
      "summary {\n",
      "  value {\n",
      "    tag: \"Train_AverageReturn\"\n",
      "    simple_value: 10344.517578125\n",
      "  }\n",
      "}\n",
      "\n",
      "<class 'tensorflow.core.util.event_pb2.Event'>\n",
      "<class 'tensorflow.core.framework.summary_pb2.Summary'>\n",
      "<class 'google.protobuf.pyext._message.RepeatedCompositeContainer'>\n",
      "value {\n",
      "  tag: \"Train_StdReturn\"\n",
      "  simple_value: 20.9814453125\n",
      "}\n",
      "\n",
      "[tag: \"Train_StdReturn\"\n",
      "simple_value: 20.9814453125\n",
      "]\n",
      "wall_time: 1600129381.9228573\n",
      "summary {\n",
      "  value {\n",
      "    tag: \"Train_StdReturn\"\n",
      "    simple_value: 20.9814453125\n",
      "  }\n",
      "}\n",
      "\n",
      "<class 'tensorflow.core.util.event_pb2.Event'>\n",
      "<class 'tensorflow.core.framework.summary_pb2.Summary'>\n",
      "<class 'google.protobuf.pyext._message.RepeatedCompositeContainer'>\n",
      "value {\n",
      "  tag: \"Train_MaxReturn\"\n",
      "  simple_value: 10365.4990234375\n",
      "}\n",
      "\n",
      "[tag: \"Train_MaxReturn\"\n",
      "simple_value: 10365.4990234375\n",
      "]\n",
      "wall_time: 1600129381.9237185\n",
      "summary {\n",
      "  value {\n",
      "    tag: \"Train_MaxReturn\"\n",
      "    simple_value: 10365.4990234375\n",
      "  }\n",
      "}\n",
      "\n",
      "<class 'tensorflow.core.util.event_pb2.Event'>\n",
      "<class 'tensorflow.core.framework.summary_pb2.Summary'>\n",
      "<class 'google.protobuf.pyext._message.RepeatedCompositeContainer'>\n",
      "value {\n",
      "  tag: \"Train_MinReturn\"\n",
      "  simple_value: 10323.5361328125\n",
      "}\n",
      "\n",
      "[tag: \"Train_MinReturn\"\n",
      "simple_value: 10323.5361328125\n",
      "]\n",
      "wall_time: 1600129381.9243557\n",
      "summary {\n",
      "  value {\n",
      "    tag: \"Train_MinReturn\"\n",
      "    simple_value: 10323.5361328125\n",
      "  }\n",
      "}\n",
      "\n",
      "<class 'tensorflow.core.util.event_pb2.Event'>\n",
      "<class 'tensorflow.core.framework.summary_pb2.Summary'>\n",
      "<class 'google.protobuf.pyext._message.RepeatedCompositeContainer'>\n",
      "value {\n",
      "  tag: \"Train_AverageEpLen\"\n",
      "  simple_value: 1000.0\n",
      "}\n",
      "\n",
      "[tag: \"Train_AverageEpLen\"\n",
      "simple_value: 1000.0\n",
      "]\n",
      "wall_time: 1600129381.9249456\n",
      "summary {\n",
      "  value {\n",
      "    tag: \"Train_AverageEpLen\"\n",
      "    simple_value: 1000.0\n",
      "  }\n",
      "}\n",
      "\n",
      "<class 'tensorflow.core.util.event_pb2.Event'>\n",
      "<class 'tensorflow.core.framework.summary_pb2.Summary'>\n",
      "<class 'google.protobuf.pyext._message.RepeatedCompositeContainer'>\n",
      "value {\n",
      "  tag: \"Train_EnvstepsSoFar\"\n",
      "  simple_value: 0.0\n",
      "}\n",
      "\n",
      "[tag: \"Train_EnvstepsSoFar\"\n",
      "simple_value: 0.0\n",
      "]\n",
      "wall_time: 1600129381.9302912\n",
      "summary {\n",
      "  value {\n",
      "    tag: \"Train_EnvstepsSoFar\"\n",
      "    simple_value: 0.0\n",
      "  }\n",
      "}\n",
      "\n",
      "<class 'tensorflow.core.util.event_pb2.Event'>\n",
      "<class 'tensorflow.core.framework.summary_pb2.Summary'>\n",
      "<class 'google.protobuf.pyext._message.RepeatedCompositeContainer'>\n",
      "value {\n",
      "  tag: \"TimeSinceStart\"\n",
      "  simple_value: 22.370954513549805\n",
      "}\n",
      "\n",
      "[tag: \"TimeSinceStart\"\n",
      "simple_value: 22.370954513549805\n",
      "]\n",
      "wall_time: 1600129381.9307437\n",
      "summary {\n",
      "  value {\n",
      "    tag: \"TimeSinceStart\"\n",
      "    simple_value: 22.370954513549805\n",
      "  }\n",
      "}\n",
      "\n",
      "<class 'tensorflow.core.util.event_pb2.Event'>\n",
      "<class 'tensorflow.core.framework.summary_pb2.Summary'>\n",
      "<class 'google.protobuf.pyext._message.RepeatedCompositeContainer'>\n",
      "value {\n",
      "  tag: \"Training_Loss\"\n",
      "  simple_value: 0.18441744148731232\n",
      "}\n",
      "\n",
      "[tag: \"Training_Loss\"\n",
      "simple_value: 0.18441744148731232\n",
      "]\n",
      "wall_time: 1600129381.9314637\n",
      "summary {\n",
      "  value {\n",
      "    tag: \"Training_Loss\"\n",
      "    simple_value: 0.18441744148731232\n",
      "  }\n",
      "}\n",
      "\n",
      "<class 'tensorflow.core.util.event_pb2.Event'>\n",
      "<class 'tensorflow.core.framework.summary_pb2.Summary'>\n",
      "<class 'google.protobuf.pyext._message.RepeatedCompositeContainer'>\n",
      "value {\n",
      "  tag: \"Initial_DataCollection_AverageReturn\"\n",
      "  simple_value: 10344.517578125\n",
      "}\n",
      "\n",
      "[tag: \"Initial_DataCollection_AverageReturn\"\n",
      "simple_value: 10344.517578125\n",
      "]\n",
      "wall_time: 1600129381.9319525\n",
      "summary {\n",
      "  value {\n",
      "    tag: \"Initial_DataCollection_AverageReturn\"\n",
      "    simple_value: 10344.517578125\n",
      "  }\n",
      "}\n",
      "\n"
     ]
    }
   ],
   "source": [
    "it = summary_iterator('16')\n",
    "for e in it:\n",
    "    print(type(e))\n",
    "    print(type(e.summary))\n",
    "    print(type(e.summary.value))\n",
    "    print((e.summary))\n",
    "    print((e.summary.value))\n",
    "    print(e)"
   ]
  },
  {
   "cell_type": "code",
   "execution_count": 28,
   "metadata": {},
   "outputs": [],
   "source": [
    "humanoid_width = [16, 32, 64, 128, 256]\n",
    "means = []\n",
    "stds = []\n",
    "for n in humanoid_width:\n",
    "    it = summary_iterator(str(n))\n",
    "    for e in it:\n",
    "        for v in e.summary.value:\n",
    "            if v.tag == 'Eval_AverageReturn':\n",
    "                means.append(v.simple_value)\n",
    "            elif v.tag == 'Eval_StdReturn':\n",
    "                stds.append(v.simple_value)"
   ]
  },
  {
   "cell_type": "code",
   "execution_count": 39,
   "metadata": {},
   "outputs": [
    {
     "data": {
      "image/png": "[encoded data removed]",
      "text/plain": [
       "<Figure size 432x288 with 1 Axes>"
      ]
     },
     "metadata": {
      "needs_background": "light"
     },
     "output_type": "display_data"
    }
   ],
   "source": [
    "plt.errorbar(humanoid_width, means, yerr=stds, fmt='o')\n",
    "plt.xscale('log')\n",
    "\n",
    "plt.xlabel('Size of hidden layers')\n",
    "plt.ylabel('Eval return')\n",
    "plt.grid()\n",
    "plt.show()"
   ]
  },
  {
   "cell_type": "code",
   "execution_count": 41,
   "metadata": {},
   "outputs": [
    {
     "name": "stdout",
     "output_type": "stream",
     "text": [
      "/mnt/c/Users/DeadScholar/Desktop/Programming/CS 285 2020 fall/homework_fall2020/hw1/final data for plotting/table 4_dagger ant\n"
     ]
    }
   ],
   "source": [
    "%cd ../table\\ 4_dagger\\ ant\n"
   ]
  },
  {
   "cell_type": "code",
   "execution_count": 53,
   "metadata": {},
   "outputs": [],
   "source": [
    "means = []\n",
    "stds = []\n",
    "it = summary_iterator('dagger_ant')\n",
    "for e in it:\n",
    "    for v in e.summary.value:\n",
    "        if v.tag == 'Eval_AverageReturn':\n",
    "            means.append(v.simple_value)\n",
    "        elif v.tag == 'Eval_StdReturn':\n",
    "            stds.append(v.simple_value)"
   ]
  },
  {
   "cell_type": "code",
   "execution_count": 69,
   "metadata": {},
   "outputs": [
    {
     "data": {
      "image/png": "[encoded data removed]",
      "text/plain": [
       "<Figure size 432x288 with 1 Axes>"
      ]
     },
     "metadata": {
      "needs_background": "light"
     },
     "output_type": "display_data"
    }
   ],
   "source": [
    "\n",
    "# plt.figure(figsize=(10, 10))\n",
    "plt.errorbar(range(len(means)), means, yerr=stds, fmt='o')\n",
    "plt.axhline(1400, linestyle='--', label='Behavior Cloning')\n",
    "plt.axhline(4714, linestyle='--', color='k', label='Expert')\n",
    "plt.xlabel('Iteration')\n",
    "plt.ylabel('Eval return')\n",
    "plt.legend(loc='lower right')\n",
    "plt.grid()\n",
    "plt.show()"
   ]
  },
  {
   "cell_type": "code",
   "execution_count": 89,
   "metadata": {},
   "outputs": [
    {
     "name": "stdout",
     "output_type": "stream",
     "text": [
      "/mnt/c/Users/DeadScholar/Desktop/Programming/CS 285 2020 fall/homework_fall2020/hw1/final data for plotting/table 5_dagger humanoid\n"
     ]
    },
    {
     "data": {
      "image/png": "[encoded data removed]",
      "text/plain": [
       "<Figure size 432x288 with 1 Axes>"
      ]
     },
     "metadata": {
      "needs_background": "light"
     },
     "output_type": "display_data"
    }
   ],
   "source": [
    "%cd ../table\\ 5_dagger\\ humanoid\n",
    "\n",
    "means = []\n",
    "stds = []\n",
    "it = summary_iterator('dagger_humanoid')\n",
    "for e in it:\n",
    "    for v in e.summary.value:\n",
    "        if v.tag == 'Eval_AverageReturn':\n",
    "            means.append(v.simple_value)\n",
    "        elif v.tag == 'Eval_StdReturn':\n",
    "            stds.append(v.simple_value)\n",
    "\n",
    "\n",
    "# plt.figure(figsize=(10, 10))\n",
    "plt.errorbar(range(len(means)), means, yerr=stds, fmt='o')\n",
    "# plt.semilogy(range(len(means)), means)\n",
    "plt.axhline(300, linestyle='--', label='Behavior Cloning')\n",
    "plt.axhline(10345, linestyle='--', color='k', label='Expert')\n",
    "plt.xlabel('Iteration')\n",
    "plt.ylabel('Eval return')\n",
    "plt.legend(loc='lower right')\n",
    "\n",
    "plt.grid()\n",
    "plt.show()"
   ]
  },
  {
   "cell_type": "code",
   "execution_count": 90,
   "metadata": {},
   "outputs": [
    {
     "name": "stdout",
     "output_type": "stream",
     "text": [
      "/mnt/c/Users/DeadScholar/Desktop/Programming/CS 285 2020 fall/homework_fall2020/hw1/final data for plotting/table 5_dagger humanoid\n"
     ]
    },
    {
     "data": {
      "image/png": "[encoded data removed]",
      "text/plain": [
       "<Figure size 432x288 with 1 Axes>"
      ]
     },
     "metadata": {
      "needs_background": "light"
     },
     "output_type": "display_data"
    }
   ],
   "source": [
    "%cd ../table\\ 5_dagger\\ humanoid\n",
    "\n",
    "means = []\n",
    "stds = []\n",
    "it = summary_iterator('dagger_humanoid')\n",
    "for e in it:\n",
    "    for v in e.summary.value:\n",
    "        if v.tag == 'Eval_AverageReturn':\n",
    "            means.append(v.simple_value)\n",
    "        elif v.tag == 'Eval_StdReturn':\n",
    "            stds.append(v.simple_value)\n",
    "\n",
    "\n",
    "# plt.figure(figsize=(10, 10))\n",
    "plt.errorbar(range(len(means)), means, yerr=stds, fmt='o')\n",
    "# plt.semilogy(range(len(means)), means)\n",
    "plt.axhline(300, linestyle='--', label='Behavior Cloning')\n",
    "plt.xlabel('Iteration')\n",
    "plt.ylabel('Eval return')\n",
    "plt.legend(loc='lower right')\n",
    "\n",
    "plt.grid()\n",
    "plt.show()"
   ]
  },
  {
   "cell_type": "code",
   "execution_count": 3,
   "metadata": {},
   "outputs": [
    {
     "name": "stdout",
     "output_type": "stream",
     "text": [
      "/mnt/c/Users/DeadScholar/Desktop/Programming/CS 285 2020 fall/homework_fall2020/hw1/final data for plotting/table 5_dagger humanoid\n"
     ]
    }
   ],
   "source": [
    "%cd table\\ 5_dagger\\ humanoid\n"
   ]
  },
  {
   "cell_type": "code",
   "execution_count": 6,
   "metadata": {},
   "outputs": [
    {
     "data": {
      "image/png": "[encoded data removed]",
      "text/plain": [
       "<Figure size 432x288 with 1 Axes>"
      ]
     },
     "metadata": {
      "needs_background": "light"
     },
     "output_type": "display_data"
    }
   ],
   "source": [
    "means = []\n",
    "stds = []\n",
    "it = summary_iterator('dagger_humanoid_3')\n",
    "for e in it:\n",
    "    for v in e.summary.value:\n",
    "        if v.tag == 'Eval_AverageReturn':\n",
    "            means.append(v.simple_value)\n",
    "        elif v.tag == 'Eval_StdReturn':\n",
    "            stds.append(v.simple_value)\n",
    "\n",
    "\n",
    "# plt.figure(figsize=(10, 10))\n",
    "plt.errorbar(range(len(means)), means, yerr=stds, fmt='o')\n",
    "# plt.semilogy(range(len(means)), means)\n",
    "plt.axhline(300, linestyle='--', label='Behavior Cloning')\n",
    "plt.axhline(10345, linestyle='--', color='k', label='Expert')\n",
    "plt.xlabel('Iteration')\n",
    "plt.ylabel('Eval return')\n",
    "plt.legend(loc='upper left')\n",
    "\n",
    "plt.grid()\n",
    "plt.show()"
   ]
  },
  {
   "cell_type": "code",
   "execution_count": null,
   "metadata": {},
   "outputs": [],
   "source": []
  }
 ],
 "metadata": {
  "colab": {
   "name": "HW1 graphing",
   "provenance": []
  },
  "kernelspec": {
   "display_name": "Python 3",
   "language": "python",
   "name": "python3"
  },
  "language_info": {
   "codemirror_mode": {
    "name": "ipython",
    "version": 3
   },
   "file_extension": ".py",
   "mimetype": "text/x-python",
   "name": "python",
   "nbconvert_exporter": "python",
   "pygments_lexer": "ipython3",
   "version": "3.6.12"
  }
 },
 "nbformat": 4,
 "nbformat_minor": 1
}
